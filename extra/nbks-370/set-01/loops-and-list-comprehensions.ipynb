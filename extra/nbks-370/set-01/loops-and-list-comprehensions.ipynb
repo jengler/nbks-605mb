{
 "cells": [
  {
   "cell_type": "markdown",
   "metadata": {
    "application/vnd.databricks.v1+cell": {
     "cellMetadata": {},
     "inputWidgets": {},
     "nuid": "0bffd958-fa12-400a-a530-8782a5cf37e4",
     "showTitle": false,
     "title": ""
    },
    "papermill": {
     "duration": 0.02246,
     "end_time": "2021-11-11T14:28:27.722942",
     "exception": false,
     "start_time": "2021-11-11T14:28:27.700482",
     "status": "completed"
    },
    "tags": []
   },
   "source": [
    "# Loops\n",
    "\n",
    "Loops are a way to repeatedly execute some code. Here's an example:"
   ]
  },
  {
   "cell_type": "code",
   "execution_count": 0,
   "metadata": {
    "application/vnd.databricks.v1+cell": {
     "cellMetadata": {},
     "inputWidgets": {},
     "nuid": "19eaee85-c04c-458f-8c1f-c3fc6ead06d1",
     "showTitle": false,
     "title": ""
    },
    "execution": {
     "iopub.execute_input": "2021-11-11T14:28:27.766933Z",
     "iopub.status.busy": "2021-11-11T14:28:27.765056Z",
     "iopub.status.idle": "2021-11-11T14:28:27.779456Z",
     "shell.execute_reply": "2021-11-11T14:28:27.780054Z"
    },
    "papermill": {
     "duration": 0.03863,
     "end_time": "2021-11-11T14:28:27.780345",
     "exception": false,
     "start_time": "2021-11-11T14:28:27.741715",
     "status": "completed"
    },
    "tags": []
   },
   "outputs": [
    {
     "output_type": "stream",
     "name": "stdout",
     "output_type": "stream",
     "text": [
      "Mercury Venus Earth Mars Jupiter Saturn Uranus Neptune "
     ]
    }
   ],
   "source": [
    "planets = ['Mercury', 'Venus', 'Earth', 'Mars', 'Jupiter', 'Saturn', 'Uranus', 'Neptune']\n",
    "for planet in planets:\n",
    "    print(planet, end=' ') # print all on same line"
   ]
  },
  {
   "cell_type": "markdown",
   "metadata": {
    "application/vnd.databricks.v1+cell": {
     "cellMetadata": {},
     "inputWidgets": {},
     "nuid": "780c14c7-34e7-4f56-92b4-31f3af4ad104",
     "showTitle": false,
     "title": ""
    },
    "papermill": {
     "duration": 0.018772,
     "end_time": "2021-11-11T14:28:27.818785",
     "exception": false,
     "start_time": "2021-11-11T14:28:27.800013",
     "status": "completed"
    },
    "tags": []
   },
   "source": [
    "The ``for`` loop specifies \n",
    "- the variable name to use (in this case, `planet`)\n",
    "- the set of values to loop over (in this case, `planets`)\n",
    "\n",
    "You use the word \"``in``\" to link them together.\n",
    "\n",
    "The object to the right of the \"``in``\" can be any object that supports iteration. Basically, if it can be thought of as a group of things, you can probably loop over it. In addition to lists, we can iterate over the elements of a tuple:"
   ]
  },
  {
   "cell_type": "code",
   "execution_count": 0,
   "metadata": {
    "application/vnd.databricks.v1+cell": {
     "cellMetadata": {},
     "inputWidgets": {},
     "nuid": "f1a3de5b-93f4-43a3-afec-5202fca27835",
     "showTitle": false,
     "title": ""
    },
    "execution": {
     "iopub.execute_input": "2021-11-11T14:28:27.860478Z",
     "iopub.status.busy": "2021-11-11T14:28:27.859816Z",
     "iopub.status.idle": "2021-11-11T14:28:27.870128Z",
     "shell.execute_reply": "2021-11-11T14:28:27.870771Z"
    },
    "papermill": {
     "duration": 0.033085,
     "end_time": "2021-11-11T14:28:27.870945",
     "exception": false,
     "start_time": "2021-11-11T14:28:27.837860",
     "status": "completed"
    },
    "tags": []
   },
   "outputs": [
    {
     "output_type": "execute_result",
     "data": {
      "text/plain": [
       "360"
      ]
     },
     "execution_count": 2,
     "metadata": {},
     "output_type": "execute_result"
    }
   ],
   "source": [
    "multiplicands = (2, 2, 2, 3, 3, 5)\n",
    "product = 1\n",
    "for mult in multiplicands:\n",
    "    product = product * mult\n",
    "product"
   ]
  },
  {
   "cell_type": "markdown",
   "metadata": {
    "application/vnd.databricks.v1+cell": {
     "cellMetadata": {},
     "inputWidgets": {},
     "nuid": "6e853d46-daca-460b-b381-6e9d9f07f436",
     "showTitle": false,
     "title": ""
    },
    "papermill": {
     "duration": 0.019231,
     "end_time": "2021-11-11T14:28:27.909713",
     "exception": false,
     "start_time": "2021-11-11T14:28:27.890482",
     "status": "completed"
    },
    "tags": []
   },
   "source": [
    "You can even loop through each character in a string:"
   ]
  },
  {
   "cell_type": "code",
   "execution_count": 0,
   "metadata": {
    "application/vnd.databricks.v1+cell": {
     "cellMetadata": {},
     "inputWidgets": {},
     "nuid": "0c17c1e0-f4a9-449f-a9bd-ad6b0d5c8994",
     "showTitle": false,
     "title": ""
    },
    "execution": {
     "iopub.execute_input": "2021-11-11T14:28:27.953479Z",
     "iopub.status.busy": "2021-11-11T14:28:27.952790Z",
     "iopub.status.idle": "2021-11-11T14:28:27.959567Z",
     "shell.execute_reply": "2021-11-11T14:28:27.960231Z"
    },
    "papermill": {
     "duration": 0.030154,
     "end_time": "2021-11-11T14:28:27.960399",
     "exception": false,
     "start_time": "2021-11-11T14:28:27.930245",
     "status": "completed"
    },
    "tags": []
   },
   "outputs": [
    {
     "output_type": "stream",
     "name": "stdout",
     "output_type": "stream",
     "text": [
      "HELLO"
     ]
    }
   ],
   "source": [
    "s = 'steganograpHy is the practicE of conceaLing a file, message, image, or video within another fiLe, message, image, Or video.'\n",
    "msg = ''\n",
    "# print all the uppercase letters in s, one at a time\n",
    "for char in s:\n",
    "    if char.isupper():\n",
    "        print(char, end='')        "
   ]
  },
  {
   "cell_type": "markdown",
   "metadata": {
    "application/vnd.databricks.v1+cell": {
     "cellMetadata": {},
     "inputWidgets": {},
     "nuid": "81868d2c-8d5e-4a33-b501-4d9a91ea82f2",
     "showTitle": false,
     "title": ""
    },
    "papermill": {
     "duration": 0.020082,
     "end_time": "2021-11-11T14:28:28.000655",
     "exception": false,
     "start_time": "2021-11-11T14:28:27.980573",
     "status": "completed"
    },
    "tags": []
   },
   "source": [
    "### range()\n",
    "\n",
    "`range()` is a function that returns a sequence of numbers. It turns out to be very useful for writing loops.\n",
    "\n",
    "For example, if we want to repeat some action 5 times:"
   ]
  },
  {
   "cell_type": "code",
   "execution_count": 0,
   "metadata": {
    "application/vnd.databricks.v1+cell": {
     "cellMetadata": {},
     "inputWidgets": {},
     "nuid": "cc08cf72-ad44-416d-8154-ac9f7c7ad5a8",
     "showTitle": false,
     "title": ""
    },
    "execution": {
     "iopub.execute_input": "2021-11-11T14:28:28.047017Z",
     "iopub.status.busy": "2021-11-11T14:28:28.046324Z",
     "iopub.status.idle": "2021-11-11T14:28:28.052773Z",
     "shell.execute_reply": "2021-11-11T14:28:28.052218Z"
    },
    "papermill": {
     "duration": 0.032006,
     "end_time": "2021-11-11T14:28:28.052925",
     "exception": false,
     "start_time": "2021-11-11T14:28:28.020919",
     "status": "completed"
    },
    "tags": []
   },
   "outputs": [
    {
     "output_type": "stream",
     "name": "stdout",
     "output_type": "stream",
     "text": [
      "Doing important work. i = 0\nDoing important work. i = 1\nDoing important work. i = 2\nDoing important work. i = 3\nDoing important work. i = 4\n"
     ]
    }
   ],
   "source": [
    "for i in range(5):\n",
    "    print(\"Doing important work. i =\", i)"
   ]
  },
  {
   "cell_type": "markdown",
   "metadata": {
    "application/vnd.databricks.v1+cell": {
     "cellMetadata": {},
     "inputWidgets": {},
     "nuid": "6408faaf-4420-493e-9b4a-486689308889",
     "showTitle": false,
     "title": ""
    },
    "papermill": {
     "duration": 0.020076,
     "end_time": "2021-11-11T14:28:28.094069",
     "exception": false,
     "start_time": "2021-11-11T14:28:28.073993",
     "status": "completed"
    },
    "tags": []
   },
   "source": [
    "## ``while`` loops\n",
    "The other type of loop in Python is a ``while`` loop, which iterates until some condition is met:"
   ]
  },
  {
   "cell_type": "code",
   "execution_count": 0,
   "metadata": {
    "application/vnd.databricks.v1+cell": {
     "cellMetadata": {},
     "inputWidgets": {},
     "nuid": "5cd7412e-5218-4b06-a53c-c5c2d0cc0c02",
     "showTitle": false,
     "title": ""
    },
    "execution": {
     "iopub.execute_input": "2021-11-11T14:28:28.138477Z",
     "iopub.status.busy": "2021-11-11T14:28:28.137838Z",
     "iopub.status.idle": "2021-11-11T14:28:28.144241Z",
     "shell.execute_reply": "2021-11-11T14:28:28.143645Z"
    },
    "papermill": {
     "duration": 0.029619,
     "end_time": "2021-11-11T14:28:28.144379",
     "exception": false,
     "start_time": "2021-11-11T14:28:28.114760",
     "status": "completed"
    },
    "tags": []
   },
   "outputs": [
    {
     "output_type": "stream",
     "name": "stdout",
     "output_type": "stream",
     "text": [
      "0 1 2 3 4 5 6 7 8 9 "
     ]
    }
   ],
   "source": [
    "i = 0\n",
    "while i < 10:\n",
    "    print(i, end=' ')\n",
    "    i += 1 # increase the value of i by 1"
   ]
  },
  {
   "cell_type": "markdown",
   "metadata": {
    "application/vnd.databricks.v1+cell": {
     "cellMetadata": {},
     "inputWidgets": {},
     "nuid": "6ee0f3c0-bd11-45aa-b3ab-9973e09eb9be",
     "showTitle": false,
     "title": ""
    },
    "papermill": {
     "duration": 0.020911,
     "end_time": "2021-11-11T14:28:28.186475",
     "exception": false,
     "start_time": "2021-11-11T14:28:28.165564",
     "status": "completed"
    },
    "tags": []
   },
   "source": [
    "The argument of the ``while`` loop is evaluated as a boolean statement, and the loop is executed until the statement evaluates to False."
   ]
  },
  {
   "cell_type": "markdown",
   "metadata": {
    "application/vnd.databricks.v1+cell": {
     "cellMetadata": {},
     "inputWidgets": {},
     "nuid": "3b5d7fbe-92d1-4ec7-99cc-a6225d952371",
     "showTitle": false,
     "title": ""
    },
    "papermill": {
     "duration": 0.021308,
     "end_time": "2021-11-11T14:28:28.228786",
     "exception": false,
     "start_time": "2021-11-11T14:28:28.207478",
     "status": "completed"
    },
    "tags": []
   },
   "source": [
    "# List comprehensions\n",
    "\n",
    "List comprehensions are one of Python's most beloved and unique features. The easiest way to understand them is probably to just look at a few examples:"
   ]
  },
  {
   "cell_type": "code",
   "execution_count": 0,
   "metadata": {
    "application/vnd.databricks.v1+cell": {
     "cellMetadata": {},
     "inputWidgets": {},
     "nuid": "4798fb81-d912-4b24-8fcd-80d199875e14",
     "showTitle": false,
     "title": ""
    },
    "execution": {
     "iopub.execute_input": "2021-11-11T14:28:28.275742Z",
     "iopub.status.busy": "2021-11-11T14:28:28.274744Z",
     "iopub.status.idle": "2021-11-11T14:28:28.280900Z",
     "shell.execute_reply": "2021-11-11T14:28:28.281503Z"
    },
    "papermill": {
     "duration": 0.031361,
     "end_time": "2021-11-11T14:28:28.281672",
     "exception": false,
     "start_time": "2021-11-11T14:28:28.250311",
     "status": "completed"
    },
    "tags": []
   },
   "outputs": [
    {
     "output_type": "execute_result",
     "data": {
      "text/plain": [
       "[0, 1, 4, 9, 16, 25, 36, 49, 64, 81]"
      ]
     },
     "execution_count": 6,
     "metadata": {},
     "output_type": "execute_result"
    }
   ],
   "source": [
    "squares = [n**2 for n in range(10)]\n",
    "squares"
   ]
  },
  {
   "cell_type": "markdown",
   "metadata": {
    "application/vnd.databricks.v1+cell": {
     "cellMetadata": {},
     "inputWidgets": {},
     "nuid": "8d50aabd-db1e-41bf-9604-91f85ab58422",
     "showTitle": false,
     "title": ""
    },
    "papermill": {
     "duration": 0.02113,
     "end_time": "2021-11-11T14:28:28.323975",
     "exception": false,
     "start_time": "2021-11-11T14:28:28.302845",
     "status": "completed"
    },
    "tags": []
   },
   "source": [
    "Here's how we would do the same thing without a list comprehension:"
   ]
  },
  {
   "cell_type": "code",
   "execution_count": 0,
   "metadata": {
    "application/vnd.databricks.v1+cell": {
     "cellMetadata": {},
     "inputWidgets": {},
     "nuid": "e4dbc577-16da-46ae-a301-d045bcfc69e8",
     "showTitle": false,
     "title": ""
    },
    "execution": {
     "iopub.execute_input": "2021-11-11T14:28:28.370291Z",
     "iopub.status.busy": "2021-11-11T14:28:28.369305Z",
     "iopub.status.idle": "2021-11-11T14:28:28.375491Z",
     "shell.execute_reply": "2021-11-11T14:28:28.376103Z"
    },
    "papermill": {
     "duration": 0.031008,
     "end_time": "2021-11-11T14:28:28.376278",
     "exception": false,
     "start_time": "2021-11-11T14:28:28.345270",
     "status": "completed"
    },
    "tags": []
   },
   "outputs": [
    {
     "output_type": "execute_result",
     "data": {
      "text/plain": [
       "[0, 1, 4, 9, 16, 25, 36, 49, 64, 81]"
      ]
     },
     "execution_count": 7,
     "metadata": {},
     "output_type": "execute_result"
    }
   ],
   "source": [
    "squares = []\n",
    "for n in range(10):\n",
    "    squares.append(n**2)\n",
    "squares"
   ]
  },
  {
   "cell_type": "markdown",
   "metadata": {
    "application/vnd.databricks.v1+cell": {
     "cellMetadata": {},
     "inputWidgets": {},
     "nuid": "07bbc099-d6c2-466d-8257-d41ea6ab41a9",
     "showTitle": false,
     "title": ""
    },
    "papermill": {
     "duration": 0.021611,
     "end_time": "2021-11-11T14:28:28.419467",
     "exception": false,
     "start_time": "2021-11-11T14:28:28.397856",
     "status": "completed"
    },
    "tags": []
   },
   "source": [
    "We can also add an `if` condition:"
   ]
  },
  {
   "cell_type": "code",
   "execution_count": 0,
   "metadata": {
    "application/vnd.databricks.v1+cell": {
     "cellMetadata": {},
     "inputWidgets": {},
     "nuid": "017637e9-34d1-4071-83e2-7b22d0b00ea9",
     "showTitle": false,
     "title": ""
    },
    "execution": {
     "iopub.execute_input": "2021-11-11T14:28:28.466830Z",
     "iopub.status.busy": "2021-11-11T14:28:28.465874Z",
     "iopub.status.idle": "2021-11-11T14:28:28.471539Z",
     "shell.execute_reply": "2021-11-11T14:28:28.472171Z"
    },
    "papermill": {
     "duration": 0.031292,
     "end_time": "2021-11-11T14:28:28.472335",
     "exception": false,
     "start_time": "2021-11-11T14:28:28.441043",
     "status": "completed"
    },
    "tags": []
   },
   "outputs": [
    {
     "output_type": "execute_result",
     "data": {
      "text/plain": [
       "['Venus', 'Earth', 'Mars']"
      ]
     },
     "execution_count": 8,
     "metadata": {},
     "output_type": "execute_result"
    }
   ],
   "source": [
    "short_planets = [planet for planet in planets if len(planet) < 6]\n",
    "short_planets"
   ]
  },
  {
   "cell_type": "markdown",
   "metadata": {
    "application/vnd.databricks.v1+cell": {
     "cellMetadata": {},
     "inputWidgets": {},
     "nuid": "2286af94-1792-472a-bbbd-a8b5208060fa",
     "showTitle": false,
     "title": ""
    },
    "papermill": {
     "duration": 0.021644,
     "end_time": "2021-11-11T14:28:28.515879",
     "exception": false,
     "start_time": "2021-11-11T14:28:28.494235",
     "status": "completed"
    },
    "tags": []
   },
   "source": [
    "(If you're familiar with SQL, you might think of this as being like a \"WHERE\" clause)\n",
    "\n",
    "Here's an example of filtering with an `if` condition *and* applying some transformation to the loop variable:"
   ]
  },
  {
   "cell_type": "code",
   "execution_count": 0,
   "metadata": {
    "application/vnd.databricks.v1+cell": {
     "cellMetadata": {},
     "inputWidgets": {},
     "nuid": "3415957b-2639-4098-8fb0-4eb9473c396c",
     "showTitle": false,
     "title": ""
    },
    "execution": {
     "iopub.execute_input": "2021-11-11T14:28:28.564002Z",
     "iopub.status.busy": "2021-11-11T14:28:28.563014Z",
     "iopub.status.idle": "2021-11-11T14:28:28.568889Z",
     "shell.execute_reply": "2021-11-11T14:28:28.569443Z"
    },
    "papermill": {
     "duration": 0.031584,
     "end_time": "2021-11-11T14:28:28.569607",
     "exception": false,
     "start_time": "2021-11-11T14:28:28.538023",
     "status": "completed"
    },
    "tags": []
   },
   "outputs": [
    {
     "output_type": "execute_result",
     "data": {
      "text/plain": [
       "['VENUS!', 'EARTH!', 'MARS!']"
      ]
     },
     "execution_count": 9,
     "metadata": {},
     "output_type": "execute_result"
    }
   ],
   "source": [
    "# str.upper() returns an all-caps version of a string\n",
    "loud_short_planets = [planet.upper() + '!' for planet in planets if len(planet) < 6]\n",
    "loud_short_planets"
   ]
  },
  {
   "cell_type": "markdown",
   "metadata": {
    "application/vnd.databricks.v1+cell": {
     "cellMetadata": {},
     "inputWidgets": {},
     "nuid": "37f0eb2f-bc02-4dac-a416-a57db95fabbf",
     "showTitle": false,
     "title": ""
    },
    "papermill": {
     "duration": 0.022487,
     "end_time": "2021-11-11T14:28:28.614496",
     "exception": false,
     "start_time": "2021-11-11T14:28:28.592009",
     "status": "completed"
    },
    "tags": []
   },
   "source": [
    "People usually write these on a single line, but you might find the structure clearer when it's split up over 3 lines:"
   ]
  },
  {
   "cell_type": "code",
   "execution_count": 0,
   "metadata": {
    "application/vnd.databricks.v1+cell": {
     "cellMetadata": {},
     "inputWidgets": {},
     "nuid": "bb2b4599-09e6-4ff3-af16-161443d91c51",
     "showTitle": false,
     "title": ""
    },
    "execution": {
     "iopub.execute_input": "2021-11-11T14:28:28.663446Z",
     "iopub.status.busy": "2021-11-11T14:28:28.662464Z",
     "iopub.status.idle": "2021-11-11T14:28:28.668318Z",
     "shell.execute_reply": "2021-11-11T14:28:28.668908Z"
    },
    "papermill": {
     "duration": 0.032032,
     "end_time": "2021-11-11T14:28:28.669079",
     "exception": false,
     "start_time": "2021-11-11T14:28:28.637047",
     "status": "completed"
    },
    "tags": []
   },
   "outputs": [
    {
     "output_type": "execute_result",
     "data": {
      "text/plain": [
       "['VENUS!', 'EARTH!', 'MARS!']"
      ]
     },
     "execution_count": 10,
     "metadata": {},
     "output_type": "execute_result"
    }
   ],
   "source": [
    "[\n",
    "    planet.upper() + '!' \n",
    "    for planet in planets \n",
    "    if len(planet) < 6\n",
    "]"
   ]
  },
  {
   "cell_type": "markdown",
   "metadata": {
    "application/vnd.databricks.v1+cell": {
     "cellMetadata": {},
     "inputWidgets": {},
     "nuid": "064c8300-76d0-49c4-b292-10b0353b4a7f",
     "showTitle": false,
     "title": ""
    },
    "papermill": {
     "duration": 0.02287,
     "end_time": "2021-11-11T14:28:28.714794",
     "exception": false,
     "start_time": "2021-11-11T14:28:28.691924",
     "status": "completed"
    },
    "tags": []
   },
   "source": [
    "(Continuing the SQL analogy, you could think of these three lines as SELECT, FROM, and WHERE)\n",
    "\n",
    "The expression on the left doesn't technically have to involve the loop variable (though it'd be pretty unusual for it not to). What do you think the expression below will evaluate to? Press the 'output' button to check."
   ]
  },
  {
   "cell_type": "code",
   "execution_count": 0,
   "metadata": {
    "_kg_hide-output": true,
    "application/vnd.databricks.v1+cell": {
     "cellMetadata": {},
     "inputWidgets": {},
     "nuid": "f90425c4-8e7f-43da-bb41-43fb536451fe",
     "showTitle": false,
     "title": ""
    },
    "execution": {
     "iopub.execute_input": "2021-11-11T14:28:28.764838Z",
     "iopub.status.busy": "2021-11-11T14:28:28.763814Z",
     "iopub.status.idle": "2021-11-11T14:28:28.769775Z",
     "shell.execute_reply": "2021-11-11T14:28:28.770392Z"
    },
    "papermill": {
     "duration": 0.032773,
     "end_time": "2021-11-11T14:28:28.770556",
     "exception": false,
     "start_time": "2021-11-11T14:28:28.737783",
     "status": "completed"
    },
    "tags": []
   },
   "outputs": [
    {
     "output_type": "execute_result",
     "data": {
      "text/plain": [
       "[32, 32, 32, 32, 32, 32, 32, 32]"
      ]
     },
     "execution_count": 11,
     "metadata": {},
     "output_type": "execute_result"
    }
   ],
   "source": [
    "[32 for planet in planets]"
   ]
  },
  {
   "cell_type": "markdown",
   "metadata": {
    "application/vnd.databricks.v1+cell": {
     "cellMetadata": {},
     "inputWidgets": {},
     "nuid": "d1e780b5-a01c-48a5-a979-97c1406f3d84",
     "showTitle": false,
     "title": ""
    },
    "papermill": {
     "duration": 0.023291,
     "end_time": "2021-11-11T14:28:28.817365",
     "exception": false,
     "start_time": "2021-11-11T14:28:28.794074",
     "status": "completed"
    },
    "tags": []
   },
   "source": [
    "List comprehensions combined with functions like `min`, `max`, and `sum` can lead to impressive one-line solutions for problems that would otherwise require several lines of code. \n",
    "\n",
    "For example, compare the following two cells of code that do the same thing."
   ]
  },
  {
   "cell_type": "code",
   "execution_count": 0,
   "metadata": {
    "application/vnd.databricks.v1+cell": {
     "cellMetadata": {},
     "inputWidgets": {},
     "nuid": "214319d9-f9ed-418f-bdca-91ab965cd0cb",
     "showTitle": false,
     "title": ""
    },
    "collapsed": true,
    "execution": {
     "iopub.execute_input": "2021-11-11T14:28:28.870392Z",
     "iopub.status.busy": "2021-11-11T14:28:28.869387Z",
     "iopub.status.idle": "2021-11-11T14:28:28.871558Z",
     "shell.execute_reply": "2021-11-11T14:28:28.872192Z"
    },
    "papermill": {
     "duration": 0.031475,
     "end_time": "2021-11-11T14:28:28.872359",
     "exception": false,
     "start_time": "2021-11-11T14:28:28.840884",
     "status": "completed"
    },
    "tags": []
   },
   "outputs": [],
   "source": [
    "def count_negatives(nums):\n",
    "    \"\"\"Return the number of negative numbers in the given list.\n",
    "    \n",
    "    >>> count_negatives([5, -1, -2, 0, 3])\n",
    "    2\n",
    "    \"\"\"\n",
    "    n_negative = 0\n",
    "    for num in nums:\n",
    "        if num < 0:\n",
    "            n_negative = n_negative + 1\n",
    "    return n_negative"
   ]
  },
  {
   "cell_type": "markdown",
   "metadata": {
    "application/vnd.databricks.v1+cell": {
     "cellMetadata": {},
     "inputWidgets": {},
     "nuid": "3468341d-432c-4d89-a7d2-d8ed5fd8d741",
     "showTitle": false,
     "title": ""
    },
    "papermill": {
     "duration": 0.023694,
     "end_time": "2021-11-11T14:28:28.919978",
     "exception": false,
     "start_time": "2021-11-11T14:28:28.896284",
     "status": "completed"
    },
    "tags": []
   },
   "source": [
    "Here's a solution using a list comprehension:"
   ]
  },
  {
   "cell_type": "code",
   "execution_count": 0,
   "metadata": {
    "application/vnd.databricks.v1+cell": {
     "cellMetadata": {},
     "inputWidgets": {},
     "nuid": "c8c999a8-ac28-4621-9e8f-2e4d0f94aee9",
     "showTitle": false,
     "title": ""
    },
    "collapsed": true,
    "execution": {
     "iopub.execute_input": "2021-11-11T14:28:28.973057Z",
     "iopub.status.busy": "2021-11-11T14:28:28.972049Z",
     "iopub.status.idle": "2021-11-11T14:28:28.976300Z",
     "shell.execute_reply": "2021-11-11T14:28:28.976951Z"
    },
    "papermill": {
     "duration": 0.032665,
     "end_time": "2021-11-11T14:28:28.977139",
     "exception": false,
     "start_time": "2021-11-11T14:28:28.944474",
     "status": "completed"
    },
    "tags": []
   },
   "outputs": [],
   "source": [
    "def count_negatives(nums):\n",
    "    return len([num for num in nums if num < 0])"
   ]
  },
  {
   "cell_type": "markdown",
   "metadata": {
    "application/vnd.databricks.v1+cell": {
     "cellMetadata": {},
     "inputWidgets": {},
     "nuid": "08200278-6bd9-4ac4-922f-0cb72a4c7c65",
     "showTitle": false,
     "title": ""
    },
    "papermill": {
     "duration": 0.024148,
     "end_time": "2021-11-11T14:28:29.025243",
     "exception": false,
     "start_time": "2021-11-11T14:28:29.001095",
     "status": "completed"
    },
    "tags": []
   },
   "source": [
    "Much better, right?\n",
    "\n",
    "Well if all we care about is minimizing the length of our code, this third solution is better still!"
   ]
  },
  {
   "cell_type": "code",
   "execution_count": 0,
   "metadata": {
    "application/vnd.databricks.v1+cell": {
     "cellMetadata": {},
     "inputWidgets": {},
     "nuid": "1b6a7735-0227-48b9-8141-896a4eb260f1",
     "showTitle": false,
     "title": ""
    },
    "collapsed": true,
    "execution": {
     "iopub.execute_input": "2021-11-11T14:28:29.079949Z",
     "iopub.status.busy": "2021-11-11T14:28:29.078889Z",
     "iopub.status.idle": "2021-11-11T14:28:29.081061Z",
     "shell.execute_reply": "2021-11-11T14:28:29.081562Z"
    },
    "papermill": {
     "duration": 0.031833,
     "end_time": "2021-11-11T14:28:29.081752",
     "exception": false,
     "start_time": "2021-11-11T14:28:29.049919",
     "status": "completed"
    },
    "tags": []
   },
   "outputs": [],
   "source": [
    "def count_negatives(nums):\n",
    "    # Reminder: in the \"booleans and conditionals\" exercises, we learned about a quirk of \n",
    "    # Python where it calculates something like True + True + False + True to be equal to 3.\n",
    "    return sum([num < 0 for num in nums])"
   ]
  },
  {
   "cell_type": "markdown",
   "metadata": {
    "application/vnd.databricks.v1+cell": {
     "cellMetadata": {},
     "inputWidgets": {},
     "nuid": "5d0f611a-eaf4-41e1-a532-cbc4cea79c34",
     "showTitle": false,
     "title": ""
    },
    "papermill": {
     "duration": 0.023898,
     "end_time": "2021-11-11T14:28:29.129896",
     "exception": false,
     "start_time": "2021-11-11T14:28:29.105998",
     "status": "completed"
    },
    "tags": []
   },
   "source": [
    "Which of these solutions is the \"best\" is entirely subjective. Solving a problem with less code is always nice, but it's worth keeping in mind the following lines from [The Zen of Python](https://en.wikipedia.org/wiki/Zen_of_Python):\n",
    "\n",
    "> Readability counts.  \n",
    "> Explicit is better than implicit.\n",
    "\n",
    "So, use these tools to make compact readable programs. But when you have to choose, favor code that is easy for others to understand."
   ]
  },
  {
   "cell_type": "markdown",
   "metadata": {
    "application/vnd.databricks.v1+cell": {
     "cellMetadata": {},
     "inputWidgets": {},
     "nuid": "26a08280-eb33-49f0-a56e-64b992472280",
     "showTitle": false,
     "title": ""
    },
    "papermill": {
     "duration": 0.024314,
     "end_time": "2021-11-11T14:28:29.178741",
     "exception": false,
     "start_time": "2021-11-11T14:28:29.154427",
     "status": "completed"
    },
    "tags": []
   },
   "source": [
    "# Your Turn\n",
    "\n",
    "You know what's next -- we have some **[fun coding challenges](https://www.kaggle.com/kernels/fork/1275177)** for you! This next set of coding problems is shorter, so try it now."
   ]
  },
  {
   "cell_type": "markdown",
   "metadata": {
    "application/vnd.databricks.v1+cell": {
     "cellMetadata": {},
     "inputWidgets": {},
     "nuid": "f061cb0a-e26a-43d9-8174-c11f6c9c7e2e",
     "showTitle": false,
     "title": ""
    },
    "papermill": {
     "duration": 0.02375,
     "end_time": "2021-11-11T14:28:29.226575",
     "exception": false,
     "start_time": "2021-11-11T14:28:29.202825",
     "status": "completed"
    },
    "tags": []
   },
   "source": [
    "---\n",
    "\n",
    "\n",
    "\n",
    "\n",
    "*Have questions or comments? Visit the [course discussion forum](https://www.kaggle.com/learn/python/discussion) to chat with other learners.*"
   ]
  }
 ],
 "metadata": {
  "anaconda-cloud": {},
  "application/vnd.databricks.v1+notebook": {
   "dashboards": [],
   "language": "python",
   "notebookMetadata": {},
   "notebookName": "loops-and-list-comprehensions",
   "widgets": {}
  },
  "kernelspec": {
   "display_name": "Python 3",
   "language": "python",
   "name": "python3"
  },
  "language_info": {
   "codemirror_mode": {
    "name": "ipython",
    "version": 3
   },
   "file_extension": ".py",
   "mimetype": "text/x-python",
   "name": "python",
   "nbconvert_exporter": "python",
   "pygments_lexer": "ipython3",
   "version": "3.7.10"
  },
  "learntools_metadata": {
   "lesson_index": 4,
   "type": "tutorial"
  },
  "papermill": {
   "default_parameters": {},
   "duration": 11.602057,
   "end_time": "2021-11-11T14:28:29.860466",
   "environment_variables": {},
   "exception": null,
   "input_path": "__notebook__.ipynb",
   "output_path": "__notebook__.ipynb",
   "parameters": {},
   "start_time": "2021-11-11T14:28:18.258409",
   "version": "2.3.3"
  }
 },
 "nbformat": 4,
 "nbformat_minor": 0
}
