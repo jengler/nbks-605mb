{
 "cells": [
  {
   "cell_type": "markdown",
   "metadata": {
    "application/vnd.databricks.v1+cell": {
     "cellMetadata": {},
     "inputWidgets": {},
     "nuid": "fc363257-675b-4c7c-986b-635a56354c99",
     "showTitle": false,
     "title": ""
    },
    "papermill": {
     "duration": 0.006232,
     "end_time": "2021-11-09T00:03:16.069313",
     "exception": false,
     "start_time": "2021-11-09T00:03:16.063081",
     "status": "completed"
    },
    "tags": []
   },
   "source": [
    "# Introduction\n",
    "\n",
    "Decision trees leave you with a difficult decision. A deep tree with lots of leaves will overfit because each prediction is coming from historical data from only the few houses at its leaf. But a shallow tree with few leaves will perform poorly because it fails to capture as many distinctions in the raw data.\n",
    "\n",
    "Even today's most sophisticated modeling techniques face this tension between underfitting and overfitting. But, many models have clever ideas that can lead to better performance. We'll look at the **random forest** as an example.\n",
    "\n",
    "The random forest uses many trees, and it makes a prediction by averaging the predictions of each component tree. It generally has much better predictive accuracy than a single decision tree and it works well with default parameters. If you keep modeling, you can learn more models with even better performance, but many of those are sensitive to getting the right parameters. \n",
    "\n",
    "# Example\n",
    "\n",
    "You've already seen the code to load the data a few times. At the end of data-loading, we have the following variables:\n",
    "- train_X\n",
    "- val_X\n",
    "- train_y\n",
    "- val_y"
   ]
  },
  {
   "cell_type": "code",
   "execution_count": 0,
   "metadata": {
    "_kg_hide-input": true,
    "_kg_hide-output": true,
    "application/vnd.databricks.v1+cell": {
     "cellMetadata": {},
     "inputWidgets": {},
     "nuid": "da48dc5a-0f28-497a-b659-782746454593",
     "showTitle": false,
     "title": ""
    },
    "collapsed": true,
    "execution": {
     "iopub.execute_input": "2021-11-09T00:03:16.086978Z",
     "iopub.status.busy": "2021-11-09T00:03:16.083628Z",
     "iopub.status.idle": "2021-11-09T00:03:17.190166Z",
     "shell.execute_reply": "2021-11-09T00:03:17.189513Z"
    },
    "papermill": {
     "duration": 1.114736,
     "end_time": "2021-11-09T00:03:17.190332",
     "exception": false,
     "start_time": "2021-11-09T00:03:16.075596",
     "status": "completed"
    },
    "tags": []
   },
   "outputs": [],
   "source": [
    "import pandas as pd\n",
    "    \n",
    "# Load data\n",
    "melbourne_file_path = '../input/melbourne-housing-snapshot/melb_data.csv'\n",
    "melbourne_data = pd.read_csv(melbourne_file_path) \n",
    "# Filter rows with missing values\n",
    "melbourne_data = melbourne_data.dropna(axis=0)\n",
    "# Choose target and features\n",
    "y = melbourne_data.Price\n",
    "melbourne_features = ['Rooms', 'Bathroom', 'Landsize', 'BuildingArea', \n",
    "                        'YearBuilt', 'Lattitude', 'Longtitude']\n",
    "X = melbourne_data[melbourne_features]\n",
    "\n",
    "from sklearn.model_selection import train_test_split\n",
    "\n",
    "# split data into training and validation data, for both features and target\n",
    "# The split is based on a random number generator. Supplying a numeric value to\n",
    "# the random_state argument guarantees we get the same split every time we\n",
    "# run this script.\n",
    "train_X, val_X, train_y, val_y = train_test_split(X, y,random_state = 0)"
   ]
  },
  {
   "cell_type": "markdown",
   "metadata": {
    "application/vnd.databricks.v1+cell": {
     "cellMetadata": {},
     "inputWidgets": {},
     "nuid": "70edaaed-be6f-4f8b-812e-b5d285166660",
     "showTitle": false,
     "title": ""
    },
    "papermill": {
     "duration": 0.00396,
     "end_time": "2021-11-09T00:03:17.198773",
     "exception": false,
     "start_time": "2021-11-09T00:03:17.194813",
     "status": "completed"
    },
    "tags": []
   },
   "source": [
    "We build a random forest model similarly to how we built a decision tree in scikit-learn - this time using the `RandomForestRegressor` class instead of `DecisionTreeRegressor`."
   ]
  },
  {
   "cell_type": "code",
   "execution_count": 0,
   "metadata": {
    "application/vnd.databricks.v1+cell": {
     "cellMetadata": {},
     "inputWidgets": {},
     "nuid": "d27b84e4-2934-400d-8eba-5c6dcef5ba3d",
     "showTitle": false,
     "title": ""
    },
    "collapsed": true,
    "execution": {
     "iopub.execute_input": "2021-11-09T00:03:17.212333Z",
     "iopub.status.busy": "2021-11-09T00:03:17.211649Z",
     "iopub.status.idle": "2021-11-09T00:03:19.471573Z",
     "shell.execute_reply": "2021-11-09T00:03:19.472050Z"
    },
    "papermill": {
     "duration": 2.269374,
     "end_time": "2021-11-09T00:03:19.472229",
     "exception": false,
     "start_time": "2021-11-09T00:03:17.202855",
     "status": "completed"
    },
    "tags": []
   },
   "outputs": [
    {
     "output_type": "stream",
     "name": "stdout",
     "output_type": "stream",
     "text": [
      "191669.7536453626\n"
     ]
    }
   ],
   "source": [
    "from sklearn.ensemble import RandomForestRegressor\n",
    "from sklearn.metrics import mean_absolute_error\n",
    "\n",
    "forest_model = RandomForestRegressor(random_state=1)\n",
    "forest_model.fit(train_X, train_y)\n",
    "melb_preds = forest_model.predict(val_X)\n",
    "print(mean_absolute_error(val_y, melb_preds))"
   ]
  },
  {
   "cell_type": "markdown",
   "metadata": {
    "application/vnd.databricks.v1+cell": {
     "cellMetadata": {},
     "inputWidgets": {},
     "nuid": "da516090-99e8-4cec-b89e-cf1235d66af1",
     "showTitle": false,
     "title": ""
    },
    "papermill": {
     "duration": 0.00392,
     "end_time": "2021-11-09T00:03:19.483003",
     "exception": false,
     "start_time": "2021-11-09T00:03:19.479083",
     "status": "completed"
    },
    "tags": []
   },
   "source": [
    "# Conclusion \n",
    "There is likely room for further improvement, but this is a big improvement over the best decision tree error of 250,000. There are parameters which allow you to change the performance of the Random Forest much as we changed the maximum depth of the single decision tree. But one of the best features of Random Forest models is that they generally work reasonably even without this tuning.\n",
    "\n",
    "# Your Turn \n",
    "Try **[Using a Random Forest model](https://www.kaggle.com/kernels/fork/1259186)** yourself and see how much it improves your model."
   ]
  },
  {
   "cell_type": "markdown",
   "metadata": {
    "application/vnd.databricks.v1+cell": {
     "cellMetadata": {},
     "inputWidgets": {},
     "nuid": "7318381d-d8d5-46f3-b39a-03e4f2f862dc",
     "showTitle": false,
     "title": ""
    },
    "papermill": {
     "duration": 0.003848,
     "end_time": "2021-11-09T00:03:19.491012",
     "exception": false,
     "start_time": "2021-11-09T00:03:19.487164",
     "status": "completed"
    },
    "tags": []
   },
   "source": [
    "---\n",
    "\n",
    "\n",
    "\n",
    "\n",
    "*Have questions or comments? Visit the [course discussion forum](https://www.kaggle.com/learn/intro-to-machine-learning/discussion) to chat with other learners.*"
   ]
  }
 ],
 "metadata": {
  "application/vnd.databricks.v1+notebook": {
   "dashboards": [],
   "language": "python",
   "notebookMetadata": {},
   "notebookName": "random-forests",
   "widgets": {}
  },
  "kernelspec": {
   "display_name": "Python 3",
   "language": "python",
   "name": "python3"
  },
  "language_info": {
   "codemirror_mode": {
    "name": "ipython",
    "version": 3
   },
   "file_extension": ".py",
   "mimetype": "text/x-python",
   "name": "python",
   "nbconvert_exporter": "python",
   "pygments_lexer": "ipython3",
   "version": "3.7.10"
  },
  "papermill": {
   "default_parameters": {},
   "duration": 12.470934,
   "end_time": "2021-11-09T00:03:20.206628",
   "environment_variables": {},
   "exception": null,
   "input_path": "__notebook__.ipynb",
   "output_path": "__notebook__.ipynb",
   "parameters": {},
   "start_time": "2021-11-09T00:03:07.735694",
   "version": "2.3.3"
  }
 },
 "nbformat": 4,
 "nbformat_minor": 0
}
